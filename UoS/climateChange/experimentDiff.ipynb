{
 "cells": [
  {
   "cell_type": "markdown",
   "metadata": {},
   "source": [
    "# Comparisons between different experiments"
   ]
  },
  {
   "cell_type": "markdown",
   "metadata": {},
   "source": [
    "# Morphometrics"
   ]
  },
  {
   "cell_type": "code",
   "execution_count": null,
   "metadata": {
    "collapsed": false
   },
   "outputs": [],
   "source": [
    "import os\n",
    "import math\n",
    "import h5py\n",
    "import errno\n",
    "import pandas as pd\n",
    "import numpy as np\n",
    "import matplotlib.pyplot as plt\n",
    "from scipy.spatial import cKDTree\n",
    "import xml.etree.ElementTree as ETO\n",
    "from scipy.interpolate import RectBivariateSpline\n",
    "import cmocean as cmo\n",
    "from matplotlib import cm\n",
    "from pylab import rcParams\n",
    "import warnings\n",
    "from scipy import signal\n",
    "warnings.filterwarnings('ignore')\n",
    "%matplotlib inline\n",
    "%config InlineBackend.figure_format = 'svg'\n",
    "\n",
    "from mpl_toolkits.axes_grid1 import make_axes_locatable"
   ]
  },
  {
   "cell_type": "markdown",
   "metadata": {},
   "source": [
    "Here we create the function to compute the gradient and aspect parameters "
   ]
  },
  {
   "cell_type": "code",
   "execution_count": null,
   "metadata": {
    "collapsed": true
   },
   "outputs": [],
   "source": [
    "def loadDataFile(folder=None, timestep=0, dx=None):\n",
    "        \"\"\"\n",
    "        Read the HDF5 file for a given time step and build slope and aspect\n",
    "        \n",
    "        Parameters\n",
    "        ----------\n",
    "        variable : folder\n",
    "            Folder path to Badlands outputs.\n",
    "            \n",
    "        variable : timestep\n",
    "            Time step to load.\n",
    "            \n",
    "        variable: dx\n",
    "            Discretisation value in metres.\n",
    "\n",
    "        \"\"\"\n",
    "        azimuth=315.0\n",
    "        altitude=45.0\n",
    "        \n",
    "        if not os.path.isdir(folder):\n",
    "            raise RuntimeError('The given folder cannot be found or the path is incomplete.')\n",
    "        \n",
    "        df = h5py.File('%s/tin.time%s.p%s.hdf5'%(folder, timestep, 0), 'r')\n",
    "        coords = np.array((df['/coords']))\n",
    "        x, y, z = np.hsplit(coords, 3)\n",
    "        \n",
    "        if dx is None:\n",
    "            dx = (x[1]-x[0])[0]\n",
    "            print 'Set dx to:',dx\n",
    "        nx = int((x.max() - x.min())/dx+1)\n",
    "        ny = int((y.max() - y.min())/dx+1)\n",
    "        xi = np.linspace(x.min(), x.max(), nx)\n",
    "        yi = np.linspace(y.min(), y.max(), ny)\n",
    "        \n",
    "        xi, yi = np.meshgrid(xi, yi)\n",
    "        xyi = np.dstack([xi.flatten(), yi.flatten()])[0]\n",
    "        XY = np.column_stack((x,y))\n",
    "        tree = cKDTree(XY)\n",
    "        distances, indices = tree.query(xyi, k=3)\n",
    "        z_vals = z[indices][:,:,0]\n",
    "        zi = np.average(z_vals,weights=(1./distances), axis=1)\n",
    "\n",
    "        onIDs = np.where(distances[:,0] == 0)[0]\n",
    "        if len(onIDs) > 0:\n",
    "            zi[onIDs] = z[indices[onIDs,0]]\n",
    "\n",
    "        z = np.reshape(zi,(ny,nx))\n",
    "        \n",
    "        # Calculate gradient\n",
    "        Sx, Sy = np.gradient(z)\n",
    "        \n",
    "        rad2deg = 180.0 / np.pi\n",
    "        slope = 90. - np.arctan(np.sqrt(Sx**2 + Sy**2))*rad2deg\n",
    "        slp = np.sqrt(Sx**2 + Sy**2)\n",
    "        \n",
    "        aspect = np.arctan2(-Sx, Sy)\n",
    "        deg2rad = np.pi / 180.0\n",
    "        shaded = np.sin(altitude*deg2rad) * np.sin(slope*deg2rad) \\\n",
    "                 + np.cos(altitude*deg2rad) * np.cos(slope*deg2rad) \\\n",
    "                 * np.cos((azimuth - 90.0)*deg2rad - aspect)\n",
    "\n",
    "        shaded = shaded * 255\n",
    "        \n",
    "        return shaded, xi, yi, z\n",
    "\n",
    "def gaussianFilter(sizex,sizey=None,scale=0.333):\n",
    "    '''\n",
    "    Generate and return a 2D Gaussian function\n",
    "    of dimensions (sizex,sizey)\n",
    "\n",
    "    If sizey is not set, it defaults to sizex\n",
    "    A scale can be defined to widen the function (default = 0.333)\n",
    "    '''\n",
    "    sizey = sizey or sizex\n",
    "    x, y = np.mgrid[-sizex:sizex+1, -sizey:sizey+1]\n",
    "    g = np.exp(-scale*(x**2/float(sizex)+y**2/float(sizey)))\n",
    "    \n",
    "    return g/g.sum()\n",
    "\n",
    "def smoothData(dem, smth=2):\n",
    "    '''\n",
    "    Calculate the slope and gradient of a DEM\n",
    "    '''\n",
    "    \n",
    "    gaussZ = np.zeros((dem.shape[0]+6,dem.shape[1]+6))\n",
    "    gaussZ[3:-3,3:-3] = dem\n",
    "\n",
    "    f0 = gaussianFilter(smth)\n",
    "    smoothDEM = signal.convolve(gaussZ,f0,mode='valid')\n",
    "#     f1 = np.array([[-1,0,1],[-2,0,2],[-1,0,1]])\n",
    "#     f2 = f1.transpose()\n",
    "#     g1 = signal.convolve(smoothDEM,f1,mode='valid')\n",
    "#     g2 = signal.convolve(smoothDEM,f2,mode='valid')\n",
    "#     slope = np.sqrt(g1**2 + g2**2)\n",
    "#     aspect = np.arctan2(g2,g1)\n",
    "    \n",
    "    return smoothDEM[1:-1,1:-1] #, slope, aspect\n",
    "\n",
    "\n",
    "def assignBCs(z,nx,ny):\n",
    "    \"\"\"\n",
    "    Pads the boundaries of a grid. Boundary condition pads the boundaries\n",
    "    with equivalent values to the data margins, e.g. x[-1,1] = x[1,1].\n",
    "    It creates a grid 2 rows and 2 columns larger than the input.\n",
    "    \"\"\"\n",
    "    Zbc = np.zeros((nx + 2, ny + 2))\n",
    "    Zbc[1:-1,1:-1] = z\n",
    "\n",
    "    # Assign boundary conditions - sides\n",
    "    Zbc[0, 1:-1] = z[0, :]\n",
    "    Zbc[-1, 1:-1] = z[-1, :]\n",
    "    Zbc[1:-1, 0] = z[:, 0]\n",
    "    Zbc[1:-1, -1] = z[:,-1]\n",
    "\n",
    "    # Assign boundary conditions - corners\n",
    "    Zbc[0, 0] = z[0, 0]\n",
    "    Zbc[0, -1] = z[0, -1]\n",
    "    Zbc[-1, 0] = z[-1, 0]\n",
    "    Zbc[-1, -1] = z[-1, 0]\n",
    "\n",
    "    return Zbc\n",
    "\n",
    "def cmptParams(x,y,Z):\n",
    "    \"\"\"\n",
    "    Define aspect, gradient and horizontal/vertical curvature using a\n",
    "    quadratic polynomial method.\n",
    "    \"\"\"\n",
    "\n",
    "    # Assign boundary conditions\n",
    "    Zbc = assignBCs(Z,x.shape[0],x.shape[1])\n",
    "    \n",
    "    # Neighborhood definition\n",
    "    # z1     z2     z3\n",
    "    # z4     z5     z6\n",
    "    # z7     z8     z9\n",
    "    \n",
    "    z1 = Zbc[2:, :-2]\n",
    "    z2 = Zbc[2:,1:-1]\n",
    "    z3 = Zbc[2:,2:]\n",
    "    z4 = Zbc[1:-1, :-2]\n",
    "    z5 = Zbc[1:-1,1:-1]\n",
    "    z6 = Zbc[1:-1, 2:]\n",
    "    z7 = Zbc[:-2, :-2]\n",
    "    z8 = Zbc[:-2, 1:-1]\n",
    "    z9 = Zbc[:-2, 2:]\n",
    "\n",
    "    # Compute coefficient values\n",
    "    dx = x[0,1]-x[0,0]\n",
    "    zz = z2+z5\n",
    "    r = ((z1+z3+z4+z6+z7+z9)-2.*(z2+z5+z8))/(3. * dx**2)\n",
    "    t = ((z1+z2+z3+z7+z8+z9)-2.*(z4+z5+z6))/(3. * dx**2)\n",
    "    s = (z3+z7-z1-z9)/(4. * dx**2)\n",
    "    p = (z3+z6+z9-z1-z4-z7)/(6.*dx)\n",
    "    q = (z1+z2+z3-z7-z8-z9)/(6.*dx)\n",
    "    u = (5.*z1+2.*(z2+z4+z6+z8)-z1-z3-z7-z9)/9.\n",
    "    #\n",
    "    with np.errstate(invalid='ignore',divide='ignore'):\n",
    "        grad = np.arctan(np.sqrt(p**2+q**2))\n",
    "        aspect = np.arctan(q/p)\n",
    "        hcurv = -(r*q**2-2.*p*q*s+t*p**2) / \\\n",
    "                ((p**2+q**2)*np.sqrt(1+p**2+q**2))\n",
    "        vcurv = -(r*p**2+2.*p*q*s+t*q**2) /  \\\n",
    "                ((p**2+q**2)*np.sqrt(1+p**2+q**2))\n",
    "\n",
    "        return grad, aspect, hcurv, vcurv"
   ]
  },
  {
   "cell_type": "markdown",
   "metadata": {},
   "source": [
    "## Call the function for first experiment"
   ]
  },
  {
   "cell_type": "code",
   "execution_count": null,
   "metadata": {
    "collapsed": false
   },
   "outputs": [],
   "source": [
    "# Regular grid interpolation resolution\n",
    "dx = 100\n",
    "# Time step of the experiment (get it from paraview) 48 is the last time step 2500 years\n",
    "timestep = 48\n",
    "\n",
    "shaded1, xi1, yi1, z1 = loadDataFile('../PrecipitationOutput3/h5',timestep,dx)\n",
    "z_gauss1 = smoothData(z1, smth=2)\n",
    "dataExtent = [np.amin(xi1), np.amax(xi1), np.amin(yi1), np.amax(yi1)]\n",
    "slp1, aspect1, hcurv1, vcurv1 = cmptParams(xi1, yi1, z_gauss1)"
   ]
  },
  {
   "cell_type": "code",
   "execution_count": null,
   "metadata": {
    "collapsed": false
   },
   "outputs": [],
   "source": [
    "fig = plt.figure()\n",
    "rcParams['figure.figsize'] = (6,7)\n",
    "ax=plt.gca()\n",
    "f2 = plt.imshow(np.flipud(slp1), interpolation = 'bilinear',\n",
    "                cmap=cmo.cm.tempo, extent=dataExtent)\n",
    "\n",
    "f1 = plt.imshow(np.flipud(shaded1), interpolation = 'bilinear',\n",
    "                cmap='gray', alpha = 0.2, extent=dataExtent)\n",
    "\n",
    "divider = make_axes_locatable(ax)\n",
    "cax = divider.append_axes(\"right\", size=\"2%\", pad=0.2)\n",
    "\n",
    "plt.colorbar(f2,cax=cax)\n",
    "plt.show()"
   ]
  },
  {
   "cell_type": "markdown",
   "metadata": {},
   "source": [
    "## Call the function for second experiment"
   ]
  },
  {
   "cell_type": "code",
   "execution_count": null,
   "metadata": {
    "collapsed": false
   },
   "outputs": [],
   "source": [
    "# Regular grid interpolation resolution\n",
    "dx = 100\n",
    "# Time step of the experiment (get it from paraview) 48 is the last time step 2500 years\n",
    "timestep = 48\n",
    "\n",
    "shaded2, xi2, yi2, z2 = loadDataFile('../PrecipitationOutput/h5',timestep,dx)\n",
    "z_gauss2 = smoothData(z2, smth=2)\n",
    "dataExtent = [np.amin(xi2), np.amax(xi2), np.amin(yi2), np.amax(yi2)]\n",
    "slp2, aspect2, hcurv2, vcurv2 = cmptParams(xi2, yi2, z_gauss2)"
   ]
  },
  {
   "cell_type": "code",
   "execution_count": null,
   "metadata": {
    "collapsed": false
   },
   "outputs": [],
   "source": [
    "fig = plt.figure()\n",
    "rcParams['figure.figsize'] = (6,7)\n",
    "ax=plt.gca()\n",
    "f2 = plt.imshow(np.flipud(slp2), interpolation = 'bilinear',\n",
    "                cmap=cmo.cm.tempo, extent=dataExtent)\n",
    "\n",
    "f1 = plt.imshow(np.flipud(shaded2), interpolation = 'bilinear',\n",
    "                cmap='gray', alpha = 0.2, extent=dataExtent)\n",
    "\n",
    "divider = make_axes_locatable(ax)\n",
    "cax = divider.append_axes(\"right\", size=\"2%\", pad=0.2)\n",
    "\n",
    "plt.colorbar(f2,cax=cax)\n",
    "plt.show()"
   ]
  },
  {
   "cell_type": "markdown",
   "metadata": {},
   "source": [
    "# Difference in elevation between the 2 experiments"
   ]
  },
  {
   "cell_type": "code",
   "execution_count": null,
   "metadata": {
    "collapsed": false
   },
   "outputs": [],
   "source": [
    "diff = z2-z1\n",
    "diff_smth = smoothData(diff, smth=2)"
   ]
  },
  {
   "cell_type": "code",
   "execution_count": null,
   "metadata": {
    "collapsed": false
   },
   "outputs": [],
   "source": [
    "diff_smth.shape"
   ]
  },
  {
   "cell_type": "code",
   "execution_count": null,
   "metadata": {
    "collapsed": true
   },
   "outputs": [],
   "source": [
    "clip_diff = diff_smth[200:400,600:900]\n",
    "clip_shaded = shaded2[200:400,600:900]"
   ]
  },
  {
   "cell_type": "code",
   "execution_count": null,
   "metadata": {
    "collapsed": false
   },
   "outputs": [],
   "source": [
    "fig = plt.figure()\n",
    "rcParams['figure.figsize'] = (12,14)\n",
    "ax=plt.gca()\n",
    "f2 = plt.imshow(np.flipud(diff_smth), interpolation = 'bilinear',cmap=cmo.cm.balance, \n",
    "                   vmin=-10, vmax=10, extent=dataExtent)\n",
    "\n",
    "f1 = plt.imshow(np.flipud(shaded2), interpolation = 'bilinear',\n",
    "                cmap='gray', alpha = 0.2, extent=dataExtent)\n",
    "\n",
    "divider = make_axes_locatable(ax)\n",
    "cax = divider.append_axes(\"right\", size=\"2%\", pad=0.2)\n",
    "\n",
    "plt.colorbar(f2,cax=cax)\n",
    "plt.show()"
   ]
  },
  {
   "cell_type": "code",
   "execution_count": null,
   "metadata": {
    "collapsed": false
   },
   "outputs": [],
   "source": [
    "fig = plt.figure()\n",
    "rcParams['figure.figsize'] = (10,12)\n",
    "ax=plt.gca()\n",
    "f2 = plt.imshow(np.flipud(clip_diff), interpolation = 'bilinear',cmap=cmo.cm.balance, \n",
    "                   vmin=-10, vmax=10)\n",
    "\n",
    "f1 = plt.imshow(np.flipud(clip_shaded), interpolation = 'bilinear',\n",
    "                cmap='gray', alpha = 0.2)\n",
    "\n",
    "divider = make_axes_locatable(ax)\n",
    "cax = divider.append_axes(\"right\", size=\"2%\", pad=0.2)\n",
    "\n",
    "plt.colorbar(f2,cax=cax)\n",
    "plt.show()"
   ]
  },
  {
   "cell_type": "markdown",
   "metadata": {},
   "source": [
    "# Create CSV file"
   ]
  },
  {
   "cell_type": "markdown",
   "metadata": {
    "collapsed": true
   },
   "source": [
    "## Write the output to a file"
   ]
  },
  {
   "cell_type": "code",
   "execution_count": null,
   "metadata": {
    "collapsed": true
   },
   "outputs": [],
   "source": [
    "# This needs to be changed otherwise it will rewrite on top of the existing file\n",
    "filename = 'diff_exp1-2.csv'"
   ]
  },
  {
   "cell_type": "code",
   "execution_count": null,
   "metadata": {
    "collapsed": false
   },
   "outputs": [],
   "source": [
    "df = pd.DataFrame({'X':xi1.flatten(),'Y':yi1.flatten(),'Z':z_gauss1.flatten(), \n",
    "                   'dz':diff_smth.flatten()})\n",
    "df.to_csv(filename,columns=['X', 'Y', 'Z', 'dz'], sep=',', index=False)"
   ]
  },
  {
   "cell_type": "code",
   "execution_count": null,
   "metadata": {
    "collapsed": true
   },
   "outputs": [],
   "source": []
  }
 ],
 "metadata": {
  "kernelspec": {
   "display_name": "Python 2",
   "language": "python",
   "name": "python2"
  },
  "language_info": {
   "codemirror_mode": {
    "name": "ipython",
    "version": 2
   },
   "file_extension": ".py",
   "mimetype": "text/x-python",
   "name": "python",
   "nbconvert_exporter": "python",
   "pygments_lexer": "ipython2",
   "version": "2.7.6"
  }
 },
 "nbformat": 4,
 "nbformat_minor": 0
}
